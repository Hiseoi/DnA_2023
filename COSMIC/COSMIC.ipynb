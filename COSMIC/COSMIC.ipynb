{
  "nbformat": 4,
  "nbformat_minor": 0,
  "metadata": {
    "colab": {
      "provenance": [],
      "gpuType": "T4"
    },
    "kernelspec": {
      "name": "python3",
      "display_name": "Python 3"
    },
    "language_info": {
      "name": "python"
    },
    "accelerator": "GPU"
  },
  "cells": [
    {
      "cell_type": "code",
      "execution_count": null,
      "metadata": {
        "colab": {
          "base_uri": "https://localhost:8080/"
        },
        "id": "Rit1s11xmvnd",
        "outputId": "666298e4-ee8e-4f9a-e5ff-31d899e299bb"
      },
      "outputs": [
        {
          "output_type": "stream",
          "name": "stdout",
          "text": [
            "/content\n"
          ]
        }
      ],
      "source": [
        "%cd /content"
      ]
    },
    {
      "cell_type": "code",
      "source": [
        "! unzip -qq '/content/drive/MyDrive/erc-training.zip' -d '/content'"
      ],
      "metadata": {
        "id": "GkY4uYk8nIiC"
      },
      "execution_count": null,
      "outputs": []
    },
    {
      "cell_type": "code",
      "source": [
        "! git clone https://github.com/declare-lab/conv-emotion.git"
      ],
      "metadata": {
        "colab": {
          "base_uri": "https://localhost:8080/"
        },
        "id": "TCDjWNlvnyBY",
        "outputId": "3efb56c1-113e-46c5-8706-e831daa1a255"
      },
      "execution_count": null,
      "outputs": [
        {
          "output_type": "stream",
          "name": "stdout",
          "text": [
            "Cloning into 'conv-emotion'...\n",
            "remote: Enumerating objects: 1402, done.\u001b[K\n",
            "remote: Counting objects: 100% (338/338), done.\u001b[K\n",
            "remote: Compressing objects: 100% (180/180), done.\u001b[K\n",
            "remote: Total 1402 (delta 163), reused 319 (delta 150), pack-reused 1064\u001b[K\n",
            "Receiving objects: 100% (1402/1402), 751.31 MiB | 16.15 MiB/s, done.\n",
            "Resolving deltas: 100% (707/707), done.\n",
            "Updating files: 100% (435/435), done.\n"
          ]
        }
      ]
    },
    {
      "cell_type": "code",
      "source": [
        "import shutil\n",
        "\n",
        "shutil.move('/content/erc-training/meld/meld_features_comet.pkl', '/content/conv-emotion/COSMIC/erc-training/meld')"
      ],
      "metadata": {
        "colab": {
          "base_uri": "https://localhost:8080/",
          "height": 35
        },
        "id": "Cm6K-q3vsHtG",
        "outputId": "a54d1c60-5594-4b36-98f8-01e285ac90d4"
      },
      "execution_count": null,
      "outputs": [
        {
          "output_type": "execute_result",
          "data": {
            "text/plain": [
              "'/content/conv-emotion/COSMIC/erc-training/meld/meld_features_comet.pkl'"
            ],
            "application/vnd.google.colaboratory.intrinsic+json": {
              "type": "string"
            }
          },
          "metadata": {},
          "execution_count": 4
        }
      ]
    },
    {
      "cell_type": "code",
      "source": [
        "shutil.move('/content/erc-training/meld/meld_features_roberta.pkl', '/content/conv-emotion/COSMIC/erc-training/meld')"
      ],
      "metadata": {
        "colab": {
          "base_uri": "https://localhost:8080/",
          "height": 35
        },
        "id": "9c-x8ukJsSLR",
        "outputId": "86acc49b-14d5-4306-dddc-c626be7c4ec3"
      },
      "execution_count": null,
      "outputs": [
        {
          "output_type": "execute_result",
          "data": {
            "text/plain": [
              "'/content/conv-emotion/COSMIC/erc-training/meld/meld_features_roberta.pkl'"
            ],
            "application/vnd.google.colaboratory.intrinsic+json": {
              "type": "string"
            }
          },
          "metadata": {},
          "execution_count": 5
        }
      ]
    },
    {
      "cell_type": "code",
      "source": [
        "%cd /content/conv-emotion/COSMIC/erc-training/"
      ],
      "metadata": {
        "colab": {
          "base_uri": "https://localhost:8080/"
        },
        "id": "Uq23_tqAss26",
        "outputId": "4abf8113-0750-4547-e73d-84d58040aa09"
      },
      "execution_count": null,
      "outputs": [
        {
          "output_type": "stream",
          "name": "stdout",
          "text": [
            "/content/conv-emotion/COSMIC/erc-training\n"
          ]
        }
      ]
    },
    {
      "cell_type": "code",
      "source": [
        "! python train_meld.py --active-listener --attention simple --dropout 0.5 --rec-dropout 0.3 --lr 0.0001 --mode1 2 --classify emotion --mu 0 --l2 0.00003 --epochs 60"
      ],
      "metadata": {
        "colab": {
          "base_uri": "https://localhost:8080/"
        },
        "id": "F_8oDVgurqQY",
        "outputId": "d16d8551-4e8a-4765-d2ba-2edfa8d30e98"
      },
      "execution_count": null,
      "outputs": [
        {
          "output_type": "stream",
          "name": "stdout",
          "text": [
            "Namespace(no_cuda=False, lr=0.0001, l2=3e-05, rec_dropout=0.3, dropout=0.5, batch_size=8, epochs=60, class_weight=False, active_listener=True, attention='simple', tensorboard=False, mode1=2, seed=100, norm=0, mu=0.0, classify='emotion', residual=False)\n",
            "Running on GPU\n",
            "MELD COSMIC Model.\n",
            "/content/conv-emotion/COSMIC/erc-training/dataloader.py:87: UserWarning: Creating a tensor from a list of numpy.ndarrays is extremely slow. Please consider converting the list to a single numpy.ndarray with numpy.array() before converting to a tensor. (Triggered internally at ../torch/csrc/utils/tensor_new.cpp:261.)\n",
            "  return torch.FloatTensor(self.roberta1[vid]),\\\n",
            "epoch: 1, train_loss: 1.3264, acc: 56.25, fscore: [48.96], valid_loss: 1.1594, acc: 62.22, fscore: [57.35], test_loss: 1.0759, acc: 64.9, fscore: [61.22], time: 86.87 sec\n",
            "epoch: 2, train_loss: 0.9071, acc: 71.93, fscore: [69.09], valid_loss: 1.0795, acc: 65.01, fscore: [62.42], test_loss: 1.0171, acc: 65.67, fscore: [63.63], time: 85.63 sec\n",
            "epoch: 3, train_loss: 0.7822, acc: 75.54, fscore: [73.36], valid_loss: 1.0654, acc: 64.47, fscore: [62.03], test_loss: 1.0117, acc: 66.17, fscore: [64.32], time: 85.07 sec\n",
            "epoch: 4, train_loss: 0.6788, acc: 78.63, fscore: [76.86], valid_loss: 1.0662, acc: 64.38, fscore: [61.95], test_loss: 1.0205, acc: 66.48, fscore: [64.77], time: 85.47 sec\n",
            "epoch: 5, train_loss: 0.5708, acc: 82.2, fscore: [81.04], valid_loss: 1.075, acc: 64.83, fscore: [62.84], test_loss: 1.0372, acc: 66.67, fscore: [65.0], time: 86.7 sec\n",
            "epoch: 6, train_loss: 0.4564, acc: 86.46, fscore: [85.83], valid_loss: 1.097, acc: 65.28, fscore: [63.51], test_loss: 1.0665, acc: 66.82, fscore: [65.42], time: 84.87 sec\n",
            "epoch: 7, train_loss: 0.3417, acc: 91.0, fscore: [90.73], valid_loss: 1.1365, acc: 65.19, fscore: [63.54], test_loss: 1.111, acc: 66.78, fscore: [65.53], time: 85.13 sec\n",
            "epoch: 8, train_loss: 0.2394, acc: 94.55, fscore: [94.44], valid_loss: 1.1982, acc: 65.1, fscore: [63.72], test_loss: 1.1763, acc: 66.32, fscore: [65.24], time: 86.65 sec\n",
            "epoch: 9, train_loss: 0.16, acc: 96.85, fscore: [96.81], valid_loss: 1.2773, acc: 64.02, fscore: [63.2], test_loss: 1.2722, acc: 65.29, fscore: [64.65], time: 85.15 sec\n",
            "epoch: 10, train_loss: 0.1075, acc: 98.43, fscore: [98.42], valid_loss: 1.34, acc: 63.84, fscore: [63.44], test_loss: 1.3696, acc: 64.64, fscore: [64.51], time: 84.32 sec\n",
            "epoch: 11, train_loss: 0.0794, acc: 99.11, fscore: [99.1], valid_loss: 1.476, acc: 64.83, fscore: [63.39], test_loss: 1.4492, acc: 66.51, fscore: [65.35], time: 84.23 sec\n",
            "epoch: 12, train_loss: 0.0642, acc: 99.44, fscore: [99.44], valid_loss: 1.698, acc: 65.28, fscore: [63.17], test_loss: 1.6135, acc: 66.13, fscore: [64.33], time: 85.72 sec\n",
            "epoch: 13, train_loss: 0.0529, acc: 99.41, fscore: [99.41], valid_loss: 1.6286, acc: 63.21, fscore: [62.42], test_loss: 1.6083, acc: 65.13, fscore: [64.51], time: 84.65 sec\n",
            "epoch: 14, train_loss: 0.0418, acc: 99.58, fscore: [99.58], valid_loss: 1.7073, acc: 62.94, fscore: [62.19], test_loss: 1.7077, acc: 64.52, fscore: [63.97], time: 84.44 sec\n",
            "epoch: 15, train_loss: 0.0338, acc: 99.63, fscore: [99.63], valid_loss: 2.045, acc: 63.84, fscore: [61.29], test_loss: 1.9292, acc: 66.67, fscore: [64.46], time: 83.7 sec\n",
            "epoch: 16, train_loss: 0.024, acc: 99.81, fscore: [99.81], valid_loss: 1.978, acc: 63.39, fscore: [61.63], test_loss: 1.8762, acc: 65.4, fscore: [63.94], time: 85.74 sec\n",
            "epoch: 17, train_loss: 0.0152, acc: 99.96, fscore: [99.96], valid_loss: 1.7672, acc: 65.01, fscore: [64.01], test_loss: 1.7608, acc: 65.56, fscore: [65.24], time: 85.67 sec\n",
            "epoch: 18, train_loss: 0.0103, acc: 99.97, fscore: [99.97], valid_loss: 1.8652, acc: 64.56, fscore: [63.24], test_loss: 1.8246, acc: 66.21, fscore: [65.37], time: 84.4 sec\n",
            "epoch: 19, train_loss: 0.0072, acc: 99.98, fscore: [99.98], valid_loss: 1.918, acc: 64.47, fscore: [63.05], test_loss: 1.8723, acc: 66.63, fscore: [65.58], time: 84.55 sec\n",
            "epoch: 20, train_loss: 0.0057, acc: 100.0, fscore: [100.0], valid_loss: 1.9661, acc: 64.65, fscore: [63.25], test_loss: 1.9178, acc: 66.7, fscore: [65.61], time: 86.76 sec\n",
            "epoch: 21, train_loss: 0.0048, acc: 100.0, fscore: [100.0], valid_loss: 2.0065, acc: 64.74, fscore: [63.32], test_loss: 1.9572, acc: 66.67, fscore: [65.53], time: 84.8 sec\n",
            "epoch: 22, train_loss: 0.0042, acc: 100.0, fscore: [100.0], valid_loss: 2.043, acc: 64.56, fscore: [63.06], test_loss: 1.9927, acc: 66.7, fscore: [65.55], time: 84.89 sec\n",
            "epoch: 23, train_loss: 0.0036, acc: 100.0, fscore: [100.0], valid_loss: 2.0749, acc: 64.65, fscore: [63.14], test_loss: 2.0243, acc: 66.59, fscore: [65.39], time: 85.6 sec\n",
            "epoch: 24, train_loss: 0.0032, acc: 100.0, fscore: [100.0], valid_loss: 2.1058, acc: 64.74, fscore: [63.23], test_loss: 2.0547, acc: 66.59, fscore: [65.39], time: 85.63 sec\n",
            "epoch: 25, train_loss: 0.0029, acc: 100.0, fscore: [100.0], valid_loss: 2.1323, acc: 64.47, fscore: [62.96], test_loss: 2.081, acc: 66.48, fscore: [65.25], time: 84.08 sec\n",
            "epoch: 26, train_loss: 0.0026, acc: 100.0, fscore: [100.0], valid_loss: 2.1569, acc: 64.47, fscore: [62.97], test_loss: 2.1059, acc: 66.51, fscore: [65.28], time: 83.92 sec\n",
            "epoch: 27, train_loss: 0.0024, acc: 100.0, fscore: [100.0], valid_loss: 2.1812, acc: 64.47, fscore: [62.97], test_loss: 2.1299, acc: 66.48, fscore: [65.24], time: 83.43 sec\n",
            "epoch: 28, train_loss: 0.0022, acc: 100.0, fscore: [100.0], valid_loss: 2.2032, acc: 64.56, fscore: [63.04], test_loss: 2.1525, acc: 66.48, fscore: [65.23], time: 86.21 sec\n",
            "epoch: 29, train_loss: 0.002, acc: 100.0, fscore: [100.0], valid_loss: 2.2228, acc: 64.47, fscore: [62.95], test_loss: 2.1725, acc: 66.44, fscore: [65.19], time: 98.75 sec\n",
            "epoch: 30, train_loss: 0.0018, acc: 100.0, fscore: [100.0], valid_loss: 2.2419, acc: 64.47, fscore: [62.97], test_loss: 2.1923, acc: 66.44, fscore: [65.18], time: 85.24 sec\n",
            "epoch: 31, train_loss: 0.0017, acc: 100.0, fscore: [100.0], valid_loss: 2.2594, acc: 64.47, fscore: [62.96], test_loss: 2.2105, acc: 66.4, fscore: [65.15], time: 85.37 sec\n",
            "epoch: 32, train_loss: 0.0016, acc: 100.0, fscore: [100.0], valid_loss: 2.2761, acc: 64.56, fscore: [63.06], test_loss: 2.2277, acc: 66.36, fscore: [65.12], time: 85.79 sec\n",
            "epoch: 33, train_loss: 0.0015, acc: 100.0, fscore: [100.0], valid_loss: 2.29, acc: 64.56, fscore: [63.13], test_loss: 2.2433, acc: 66.32, fscore: [65.09], time: 86.17 sec\n",
            "epoch: 34, train_loss: 0.0014, acc: 100.0, fscore: [100.0], valid_loss: 2.3055, acc: 64.56, fscore: [63.13], test_loss: 2.2592, acc: 66.32, fscore: [65.09], time: 86.07 sec\n",
            "epoch: 35, train_loss: 0.0013, acc: 100.0, fscore: [100.0], valid_loss: 2.3184, acc: 64.56, fscore: [63.13], test_loss: 2.2732, acc: 66.36, fscore: [65.13], time: 86.56 sec\n",
            "epoch: 36, train_loss: 0.0012, acc: 100.0, fscore: [100.0], valid_loss: 2.3312, acc: 64.56, fscore: [63.12], test_loss: 2.287, acc: 66.36, fscore: [65.13], time: 87.11 sec\n",
            "epoch: 37, train_loss: 0.0011, acc: 100.0, fscore: [100.0], valid_loss: 2.3425, acc: 64.65, fscore: [63.24], test_loss: 2.2995, acc: 66.28, fscore: [65.08], time: 84.64 sec\n",
            "epoch: 38, train_loss: 0.0011, acc: 100.0, fscore: [100.0], valid_loss: 2.3537, acc: 64.47, fscore: [63.0], test_loss: 2.3116, acc: 66.28, fscore: [65.09], time: 84.83 sec\n",
            "epoch: 39, train_loss: 0.001, acc: 100.0, fscore: [100.0], valid_loss: 2.3639, acc: 64.56, fscore: [63.18], test_loss: 2.3232, acc: 66.36, fscore: [65.2], time: 86.16 sec\n",
            "epoch: 40, train_loss: 0.001, acc: 100.0, fscore: [100.0], valid_loss: 2.3747, acc: 64.38, fscore: [62.94], test_loss: 2.3349, acc: 66.4, fscore: [65.27], time: 85.21 sec\n",
            "epoch: 41, train_loss: 0.0009, acc: 100.0, fscore: [100.0], valid_loss: 2.3842, acc: 64.56, fscore: [63.18], test_loss: 2.3455, acc: 66.4, fscore: [65.27], time: 84.04 sec\n",
            "epoch: 42, train_loss: 0.0009, acc: 100.0, fscore: [100.0], valid_loss: 2.4209, acc: 64.74, fscore: [63.21], test_loss: 2.3712, acc: 66.28, fscore: [64.97], time: 84.88 sec\n",
            "epoch: 43, train_loss: 0.001, acc: 100.0, fscore: [100.0], valid_loss: 2.4046, acc: 64.83, fscore: [63.53], test_loss: 2.3753, acc: 66.36, fscore: [65.3], time: 85.15 sec\n",
            "epoch: 44, train_loss: 0.0008, acc: 100.0, fscore: [100.0], valid_loss: 2.4197, acc: 64.56, fscore: [63.16], test_loss: 2.3837, acc: 66.28, fscore: [65.16], time: 84.48 sec\n",
            "epoch: 45, train_loss: 0.0008, acc: 100.0, fscore: [100.0], valid_loss: 2.4292, acc: 64.65, fscore: [63.27], test_loss: 2.3944, acc: 66.25, fscore: [65.11], time: 85.22 sec\n",
            "epoch: 46, train_loss: 0.0008, acc: 100.0, fscore: [100.0], valid_loss: 2.4359, acc: 64.65, fscore: [63.3], test_loss: 2.4023, acc: 66.28, fscore: [65.17], time: 85.28 sec\n",
            "epoch: 47, train_loss: 0.0007, acc: 100.0, fscore: [100.0], valid_loss: 2.4436, acc: 64.74, fscore: [63.39], test_loss: 2.4113, acc: 66.28, fscore: [65.17], time: 86.03 sec\n",
            "epoch: 48, train_loss: 0.0007, acc: 100.0, fscore: [100.0], valid_loss: 2.4579, acc: 64.74, fscore: [63.35], test_loss: 2.4233, acc: 66.25, fscore: [65.11], time: 84.77 sec\n",
            "epoch: 49, train_loss: 0.0007, acc: 100.0, fscore: [100.0], valid_loss: 2.4637, acc: 64.74, fscore: [63.36], test_loss: 2.4317, acc: 66.21, fscore: [65.08], time: 84.33 sec\n",
            "epoch: 50, train_loss: 0.0006, acc: 100.0, fscore: [100.0], valid_loss: 2.4742, acc: 64.83, fscore: [63.49], test_loss: 2.442, acc: 66.21, fscore: [65.09], time: 84.2 sec\n",
            "epoch: 51, train_loss: 0.0006, acc: 100.0, fscore: [100.0], valid_loss: 2.4846, acc: 64.92, fscore: [63.58], test_loss: 2.4521, acc: 66.17, fscore: [65.06], time: 84.74 sec\n",
            "epoch: 52, train_loss: 0.0006, acc: 100.0, fscore: [100.0], valid_loss: 2.493, acc: 64.92, fscore: [63.54], test_loss: 2.4608, acc: 66.13, fscore: [65.01], time: 85.59 sec\n",
            "epoch: 53, train_loss: 0.0006, acc: 100.0, fscore: [100.0], valid_loss: 2.5028, acc: 65.01, fscore: [63.67], test_loss: 2.4709, acc: 66.09, fscore: [64.97], time: 84.1 sec\n",
            "epoch: 54, train_loss: 0.0006, acc: 100.0, fscore: [100.0], valid_loss: 2.513, acc: 65.1, fscore: [63.74], test_loss: 2.4813, acc: 66.13, fscore: [65.0], time: 84.17 sec\n",
            "epoch: 55, train_loss: 0.0005, acc: 100.0, fscore: [100.0], valid_loss: 2.5234, acc: 65.01, fscore: [63.65], test_loss: 2.4918, acc: 66.09, fscore: [64.98], time: 85.97 sec\n",
            "epoch: 56, train_loss: 0.0005, acc: 100.0, fscore: [100.0], valid_loss: 2.5362, acc: 65.01, fscore: [63.6], test_loss: 2.5041, acc: 65.94, fscore: [64.79], time: 86.42 sec\n",
            "epoch: 57, train_loss: 0.124, acc: 97.11, fscore: [97.11], valid_loss: 1.8723, acc: 64.47, fscore: [63.54], test_loss: 1.964, acc: 65.48, fscore: [64.81], time: 84.24 sec\n",
            "epoch: 58, train_loss: 0.0492, acc: 98.73, fscore: [98.73], valid_loss: 2.296, acc: 64.47, fscore: [62.43], test_loss: 2.2003, acc: 65.71, fscore: [64.01], time: 85.52 sec\n",
            "epoch: 59, train_loss: 0.0162, acc: 99.73, fscore: [99.73], valid_loss: 2.1751, acc: 65.37, fscore: [64.0], test_loss: 2.1732, acc: 65.59, fscore: [64.67], time: 85.64 sec\n",
            "epoch: 60, train_loss: 0.0031, acc: 99.98, fscore: [99.98], valid_loss: 2.3148, acc: 64.92, fscore: [63.32], test_loss: 2.2994, acc: 65.21, fscore: [64.0], time: 86.08 sec\n",
            "Test Scores: Weighted F1\n",
            "@Best Valid Loss: 64.32\n",
            "@Best Valid F1: 65.24\n"
          ]
        }
      ]
    },
    {
      "cell_type": "code",
      "source": [],
      "metadata": {
        "id": "XUKDFO4rPdpi"
      },
      "execution_count": null,
      "outputs": []
    }
  ]
}